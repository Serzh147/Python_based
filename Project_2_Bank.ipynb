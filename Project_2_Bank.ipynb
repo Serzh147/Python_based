{
  "cells": [
    {
      "cell_type": "markdown",
      "metadata": {
        "id": "view-in-github",
        "colab_type": "text"
      },
      "source": [
        "<a href=\"https://colab.research.google.com/github/Serzh147/Python_based/blob/main/Project_2_Bank.ipynb\" target=\"_parent\"><img src=\"https://colab.research.google.com/assets/colab-badge.svg\" alt=\"Open In Colab\"/></a>"
      ]
    },
    {
      "cell_type": "markdown",
      "id": "f040715c",
      "metadata": {
        "id": "f040715c"
      },
      "source": [
        "##  Описание проекта\n",
        "###   Заказчик — кредитный отдел банка. Нужно разобраться, влияет ли семейное положение и количество детей клиента на факт погашения кредита в срок. Входные данные от банка — статистика о платёжеспособности клиентов.Результаты исследования будут учтены при построении модели кредитного скоринга — специальной системы, которая оценивает способность потенциального заёмщика вернуть кредит банку."
      ]
    },
    {
      "cell_type": "markdown",
      "id": "7d4ec7eb",
      "metadata": {
        "id": "7d4ec7eb"
      },
      "source": [
        "импортируем библиотек pandas и открываю файл со статистикой"
      ]
    },
    {
      "cell_type": "code",
      "execution_count": null,
      "id": "8e3c4311",
      "metadata": {
        "id": "8e3c4311"
      },
      "outputs": [],
      "source": [
        "import pandas as pd"
      ]
    },
    {
      "cell_type": "code",
      "execution_count": null,
      "id": "3ec945b9",
      "metadata": {
        "id": "3ec945b9",
        "outputId": "9cfd043a-2666-4642-b4c7-c02bbb11e56c"
      },
      "outputs": [
        {
          "name": "stdout",
          "output_type": "stream",
          "text": [
            "<class 'pandas.core.frame.DataFrame'>\n",
            "RangeIndex: 21525 entries, 0 to 21524\n",
            "Data columns (total 12 columns):\n",
            " #   Column            Non-Null Count  Dtype  \n",
            "---  ------            --------------  -----  \n",
            " 0   children          21525 non-null  int64  \n",
            " 1   days_employed     19351 non-null  float64\n",
            " 2   dob_years         21525 non-null  int64  \n",
            " 3   education         21525 non-null  object \n",
            " 4   education_id      21525 non-null  int64  \n",
            " 5   family_status     21525 non-null  object \n",
            " 6   family_status_id  21525 non-null  int64  \n",
            " 7   gender            21525 non-null  object \n",
            " 8   income_type       21525 non-null  object \n",
            " 9   debt              21525 non-null  int64  \n",
            " 10  total_income      19351 non-null  float64\n",
            " 11  purpose           21525 non-null  object \n",
            "dtypes: float64(2), int64(5), object(5)\n",
            "memory usage: 2.0+ MB\n"
          ]
        }
      ],
      "source": [
        "df = pd.read_csv('data.csv') # прочитаем файл\n",
        "df.info() # и рассмотрим информацию о нем"
      ]
    },
    {
      "cell_type": "code",
      "execution_count": null,
      "id": "bc4dda4f",
      "metadata": {
        "id": "bc4dda4f",
        "outputId": "40c0b8fb-d589-4c2e-b4fe-4e5c01a5a411"
      },
      "outputs": [
        {
          "data": {
            "text/html": [
              "<div>\n",
              "<style scoped>\n",
              "    .dataframe tbody tr th:only-of-type {\n",
              "        vertical-align: middle;\n",
              "    }\n",
              "\n",
              "    .dataframe tbody tr th {\n",
              "        vertical-align: top;\n",
              "    }\n",
              "\n",
              "    .dataframe thead th {\n",
              "        text-align: right;\n",
              "    }\n",
              "</style>\n",
              "<table border=\"1\" class=\"dataframe\">\n",
              "  <thead>\n",
              "    <tr style=\"text-align: right;\">\n",
              "      <th></th>\n",
              "      <th>children</th>\n",
              "      <th>days_employed</th>\n",
              "      <th>dob_years</th>\n",
              "      <th>education</th>\n",
              "      <th>education_id</th>\n",
              "      <th>family_status</th>\n",
              "      <th>family_status_id</th>\n",
              "      <th>gender</th>\n",
              "      <th>income_type</th>\n",
              "      <th>debt</th>\n",
              "      <th>total_income</th>\n",
              "      <th>purpose</th>\n",
              "    </tr>\n",
              "  </thead>\n",
              "  <tbody>\n",
              "    <tr>\n",
              "      <th>0</th>\n",
              "      <td>1</td>\n",
              "      <td>-8437.673028</td>\n",
              "      <td>42</td>\n",
              "      <td>высшее</td>\n",
              "      <td>0</td>\n",
              "      <td>женат / замужем</td>\n",
              "      <td>0</td>\n",
              "      <td>F</td>\n",
              "      <td>сотрудник</td>\n",
              "      <td>0</td>\n",
              "      <td>253875.639453</td>\n",
              "      <td>покупка жилья</td>\n",
              "    </tr>\n",
              "    <tr>\n",
              "      <th>1</th>\n",
              "      <td>1</td>\n",
              "      <td>-4024.803754</td>\n",
              "      <td>36</td>\n",
              "      <td>среднее</td>\n",
              "      <td>1</td>\n",
              "      <td>женат / замужем</td>\n",
              "      <td>0</td>\n",
              "      <td>F</td>\n",
              "      <td>сотрудник</td>\n",
              "      <td>0</td>\n",
              "      <td>112080.014102</td>\n",
              "      <td>приобретение автомобиля</td>\n",
              "    </tr>\n",
              "    <tr>\n",
              "      <th>2</th>\n",
              "      <td>0</td>\n",
              "      <td>-5623.422610</td>\n",
              "      <td>33</td>\n",
              "      <td>Среднее</td>\n",
              "      <td>1</td>\n",
              "      <td>женат / замужем</td>\n",
              "      <td>0</td>\n",
              "      <td>M</td>\n",
              "      <td>сотрудник</td>\n",
              "      <td>0</td>\n",
              "      <td>145885.952297</td>\n",
              "      <td>покупка жилья</td>\n",
              "    </tr>\n",
              "    <tr>\n",
              "      <th>3</th>\n",
              "      <td>3</td>\n",
              "      <td>-4124.747207</td>\n",
              "      <td>32</td>\n",
              "      <td>среднее</td>\n",
              "      <td>1</td>\n",
              "      <td>женат / замужем</td>\n",
              "      <td>0</td>\n",
              "      <td>M</td>\n",
              "      <td>сотрудник</td>\n",
              "      <td>0</td>\n",
              "      <td>267628.550329</td>\n",
              "      <td>дополнительное образование</td>\n",
              "    </tr>\n",
              "    <tr>\n",
              "      <th>4</th>\n",
              "      <td>0</td>\n",
              "      <td>340266.072047</td>\n",
              "      <td>53</td>\n",
              "      <td>среднее</td>\n",
              "      <td>1</td>\n",
              "      <td>гражданский брак</td>\n",
              "      <td>1</td>\n",
              "      <td>F</td>\n",
              "      <td>пенсионер</td>\n",
              "      <td>0</td>\n",
              "      <td>158616.077870</td>\n",
              "      <td>сыграть свадьбу</td>\n",
              "    </tr>\n",
              "  </tbody>\n",
              "</table>\n",
              "</div>"
            ],
            "text/plain": [
              "   children  days_employed  dob_years education  education_id  \\\n",
              "0         1   -8437.673028         42    высшее             0   \n",
              "1         1   -4024.803754         36   среднее             1   \n",
              "2         0   -5623.422610         33   Среднее             1   \n",
              "3         3   -4124.747207         32   среднее             1   \n",
              "4         0  340266.072047         53   среднее             1   \n",
              "\n",
              "      family_status  family_status_id gender income_type  debt   total_income  \\\n",
              "0   женат / замужем                 0      F   сотрудник     0  253875.639453   \n",
              "1   женат / замужем                 0      F   сотрудник     0  112080.014102   \n",
              "2   женат / замужем                 0      M   сотрудник     0  145885.952297   \n",
              "3   женат / замужем                 0      M   сотрудник     0  267628.550329   \n",
              "4  гражданский брак                 1      F   пенсионер     0  158616.077870   \n",
              "\n",
              "                      purpose  \n",
              "0               покупка жилья  \n",
              "1     приобретение автомобиля  \n",
              "2               покупка жилья  \n",
              "3  дополнительное образование  \n",
              "4             сыграть свадьбу  "
            ]
          },
          "execution_count": 3,
          "metadata": {},
          "output_type": "execute_result"
        }
      ],
      "source": [
        "df.head() # посмотрим как выглядит таблица"
      ]
    },
    {
      "cell_type": "markdown",
      "id": "00ee660e",
      "metadata": {
        "id": "00ee660e"
      },
      "source": [
        "Чтож, начнем..."
      ]
    },
    {
      "cell_type": "markdown",
      "id": "365a32aa",
      "metadata": {
        "id": "365a32aa"
      },
      "source": [
        "# 1. Предобработка данных."
      ]
    },
    {
      "cell_type": "markdown",
      "id": "1843a442",
      "metadata": {
        "id": "1843a442"
      },
      "source": [
        "##  1.1  Пропущенные значения."
      ]
    },
    {
      "cell_type": "code",
      "execution_count": null,
      "id": "439b48de",
      "metadata": {
        "id": "439b48de",
        "outputId": "eeb124d5-6d48-4ff0-d64a-37707e3cc280"
      },
      "outputs": [
        {
          "data": {
            "text/plain": [
              "children               0\n",
              "days_employed       2174\n",
              "dob_years              0\n",
              "education              0\n",
              "education_id           0\n",
              "family_status          0\n",
              "family_status_id       0\n",
              "gender                 0\n",
              "income_type            0\n",
              "debt                   0\n",
              "total_income        2174\n",
              "purpose                0\n",
              "dtype: int64"
            ]
          },
          "execution_count": 4,
          "metadata": {},
          "output_type": "execute_result"
        }
      ],
      "source": [
        "df.isna().sum() # посчитаем количесвто пропущенных значений по всей таблице"
      ]
    },
    {
      "cell_type": "markdown",
      "id": "f62a6e07",
      "metadata": {
        "id": "f62a6e07"
      },
      "source": [
        "Два столбца имеют одинаковое количество пропущенных значений. Ппредполагаю, что между этими столбцами есть связь. Визуализирую датасет, отфильтровав по пропускам в одном из \"проблемных\" столбцов."
      ]
    },
    {
      "cell_type": "code",
      "execution_count": null,
      "id": "6184aad6",
      "metadata": {
        "scrolled": false,
        "id": "6184aad6",
        "outputId": "8a9b59a7-c922-4b52-903a-9e9e43a648a0"
      },
      "outputs": [
        {
          "data": {
            "text/html": [
              "<div>\n",
              "<style scoped>\n",
              "    .dataframe tbody tr th:only-of-type {\n",
              "        vertical-align: middle;\n",
              "    }\n",
              "\n",
              "    .dataframe tbody tr th {\n",
              "        vertical-align: top;\n",
              "    }\n",
              "\n",
              "    .dataframe thead th {\n",
              "        text-align: right;\n",
              "    }\n",
              "</style>\n",
              "<table border=\"1\" class=\"dataframe\">\n",
              "  <thead>\n",
              "    <tr style=\"text-align: right;\">\n",
              "      <th></th>\n",
              "      <th>children</th>\n",
              "      <th>days_employed</th>\n",
              "      <th>dob_years</th>\n",
              "      <th>education</th>\n",
              "      <th>education_id</th>\n",
              "      <th>family_status</th>\n",
              "      <th>family_status_id</th>\n",
              "      <th>gender</th>\n",
              "      <th>income_type</th>\n",
              "      <th>debt</th>\n",
              "      <th>total_income</th>\n",
              "      <th>purpose</th>\n",
              "    </tr>\n",
              "  </thead>\n",
              "  <tbody>\n",
              "    <tr>\n",
              "      <th>12</th>\n",
              "      <td>0</td>\n",
              "      <td>NaN</td>\n",
              "      <td>65</td>\n",
              "      <td>среднее</td>\n",
              "      <td>1</td>\n",
              "      <td>гражданский брак</td>\n",
              "      <td>1</td>\n",
              "      <td>M</td>\n",
              "      <td>пенсионер</td>\n",
              "      <td>0</td>\n",
              "      <td>NaN</td>\n",
              "      <td>сыграть свадьбу</td>\n",
              "    </tr>\n",
              "    <tr>\n",
              "      <th>26</th>\n",
              "      <td>0</td>\n",
              "      <td>NaN</td>\n",
              "      <td>41</td>\n",
              "      <td>среднее</td>\n",
              "      <td>1</td>\n",
              "      <td>женат / замужем</td>\n",
              "      <td>0</td>\n",
              "      <td>M</td>\n",
              "      <td>госслужащий</td>\n",
              "      <td>0</td>\n",
              "      <td>NaN</td>\n",
              "      <td>образование</td>\n",
              "    </tr>\n",
              "    <tr>\n",
              "      <th>29</th>\n",
              "      <td>0</td>\n",
              "      <td>NaN</td>\n",
              "      <td>63</td>\n",
              "      <td>среднее</td>\n",
              "      <td>1</td>\n",
              "      <td>Не женат / не замужем</td>\n",
              "      <td>4</td>\n",
              "      <td>F</td>\n",
              "      <td>пенсионер</td>\n",
              "      <td>0</td>\n",
              "      <td>NaN</td>\n",
              "      <td>строительство жилой недвижимости</td>\n",
              "    </tr>\n",
              "    <tr>\n",
              "      <th>41</th>\n",
              "      <td>0</td>\n",
              "      <td>NaN</td>\n",
              "      <td>50</td>\n",
              "      <td>среднее</td>\n",
              "      <td>1</td>\n",
              "      <td>женат / замужем</td>\n",
              "      <td>0</td>\n",
              "      <td>F</td>\n",
              "      <td>госслужащий</td>\n",
              "      <td>0</td>\n",
              "      <td>NaN</td>\n",
              "      <td>сделка с подержанным автомобилем</td>\n",
              "    </tr>\n",
              "    <tr>\n",
              "      <th>55</th>\n",
              "      <td>0</td>\n",
              "      <td>NaN</td>\n",
              "      <td>54</td>\n",
              "      <td>среднее</td>\n",
              "      <td>1</td>\n",
              "      <td>гражданский брак</td>\n",
              "      <td>1</td>\n",
              "      <td>F</td>\n",
              "      <td>пенсионер</td>\n",
              "      <td>1</td>\n",
              "      <td>NaN</td>\n",
              "      <td>сыграть свадьбу</td>\n",
              "    </tr>\n",
              "  </tbody>\n",
              "</table>\n",
              "</div>"
            ],
            "text/plain": [
              "    children  days_employed  dob_years education  education_id  \\\n",
              "12         0            NaN         65   среднее             1   \n",
              "26         0            NaN         41   среднее             1   \n",
              "29         0            NaN         63   среднее             1   \n",
              "41         0            NaN         50   среднее             1   \n",
              "55         0            NaN         54   среднее             1   \n",
              "\n",
              "            family_status  family_status_id gender  income_type  debt  \\\n",
              "12       гражданский брак                 1      M    пенсионер     0   \n",
              "26        женат / замужем                 0      M  госслужащий     0   \n",
              "29  Не женат / не замужем                 4      F    пенсионер     0   \n",
              "41        женат / замужем                 0      F  госслужащий     0   \n",
              "55       гражданский брак                 1      F    пенсионер     1   \n",
              "\n",
              "    total_income                           purpose  \n",
              "12           NaN                   сыграть свадьбу  \n",
              "26           NaN                       образование  \n",
              "29           NaN  строительство жилой недвижимости  \n",
              "41           NaN  сделка с подержанным автомобилем  \n",
              "55           NaN                   сыграть свадьбу  "
            ]
          },
          "execution_count": 5,
          "metadata": {},
          "output_type": "execute_result"
        }
      ],
      "source": [
        "df[df['days_employed'].isna()].head()# индексация по пропущенным значениям столбца со стажем"
      ]
    },
    {
      "cell_type": "markdown",
      "id": "bc0802e6",
      "metadata": {
        "id": "bc0802e6"
      },
      "source": [
        "Действительно, просмотр начала и хвоста отфильтрованной по пропускам таблицы показывает совпадение пропущенных значений в обоих столбцах. Очевидно, что между пропусками есть взаимосвязь, и пропуск в столбце дохода связан с наличием такового в столбце со стажем. Или наоборот. Но, так же существует вероятность что эти два количества просто совпали случайным образом, и в середине отфильтрованной таблицы есть несовпадающие пропуски. Проверю. Создам из общего датасета новые таблицы с фильтром по пропущенным значениям в каждом из столбцов стажа и дохода."
      ]
    },
    {
      "cell_type": "code",
      "execution_count": null,
      "id": "03262b63",
      "metadata": {
        "id": "03262b63",
        "outputId": "48526038-067a-47f5-aafd-0497f96cb3b6"
      },
      "outputs": [
        {
          "name": "stdout",
          "output_type": "stream",
          "text": [
            "<class 'pandas.core.frame.DataFrame'>\n",
            "Int64Index: 2174 entries, 12 to 21510\n",
            "Data columns (total 12 columns):\n",
            " #   Column            Non-Null Count  Dtype  \n",
            "---  ------            --------------  -----  \n",
            " 0   children          2174 non-null   int64  \n",
            " 1   days_employed     0 non-null      float64\n",
            " 2   dob_years         2174 non-null   int64  \n",
            " 3   education         2174 non-null   object \n",
            " 4   education_id      2174 non-null   int64  \n",
            " 5   family_status     2174 non-null   object \n",
            " 6   family_status_id  2174 non-null   int64  \n",
            " 7   gender            2174 non-null   object \n",
            " 8   income_type       2174 non-null   object \n",
            " 9   debt              2174 non-null   int64  \n",
            " 10  total_income      0 non-null      float64\n",
            " 11  purpose           2174 non-null   object \n",
            "dtypes: float64(2), int64(5), object(5)\n",
            "memory usage: 220.8+ KB\n"
          ]
        }
      ],
      "source": [
        "df_employd = df[df['days_employed'].isna()] # Посмотрим инфо по отфильтрованной таблице с пропущенными значениями стажа\n",
        "df_employd.info()"
      ]
    },
    {
      "cell_type": "code",
      "execution_count": null,
      "id": "00985e36",
      "metadata": {
        "id": "00985e36",
        "outputId": "821cd101-4764-4156-937e-26d95a91b994"
      },
      "outputs": [
        {
          "name": "stdout",
          "output_type": "stream",
          "text": [
            "<class 'pandas.core.frame.DataFrame'>\n",
            "Int64Index: 2174 entries, 12 to 21510\n",
            "Data columns (total 12 columns):\n",
            " #   Column            Non-Null Count  Dtype  \n",
            "---  ------            --------------  -----  \n",
            " 0   children          2174 non-null   int64  \n",
            " 1   days_employed     0 non-null      float64\n",
            " 2   dob_years         2174 non-null   int64  \n",
            " 3   education         2174 non-null   object \n",
            " 4   education_id      2174 non-null   int64  \n",
            " 5   family_status     2174 non-null   object \n",
            " 6   family_status_id  2174 non-null   int64  \n",
            " 7   gender            2174 non-null   object \n",
            " 8   income_type       2174 non-null   object \n",
            " 9   debt              2174 non-null   int64  \n",
            " 10  total_income      0 non-null      float64\n",
            " 11  purpose           2174 non-null   object \n",
            "dtypes: float64(2), int64(5), object(5)\n",
            "memory usage: 220.8+ KB\n"
          ]
        }
      ],
      "source": [
        "df_income = df[df['total_income'].isna()] # и тоже самое сделаем с фильтром по доходу\n",
        "df_income.info()"
      ]
    },
    {
      "cell_type": "markdown",
      "id": "08f2d563",
      "metadata": {
        "id": "08f2d563"
      },
      "source": [
        "В обеих таблицах вижу 0 напротив ненулевых значений в столбце-оппонненте, а это подтвержает, что пропуски в обоих столбцах совпдают полностью. Теперь рассчитаем долю пропущенных значений ко всем представленным данным. Она совпадет для обоих столбцов."
      ]
    },
    {
      "cell_type": "code",
      "execution_count": null,
      "id": "394caf96",
      "metadata": {
        "id": "394caf96",
        "outputId": "ddb08e54-f513-4468-fb08-5086e36a5569"
      },
      "outputs": [
        {
          "name": "stdout",
          "output_type": "stream",
          "text": [
            "Пропущенных значений: 10.1%\n"
          ]
        }
      ],
      "source": [
        "share = 2174/21525\n",
        "print(f'Пропущенных значений:{share: .1%}')"
      ]
    },
    {
      "cell_type": "markdown",
      "id": "8a703031",
      "metadata": {
        "id": "8a703031"
      },
      "source": [
        "Считаю, что 10% пропущенных значений это довольна значимая часть, чтобы повлиять на общий результат исследований. Вижу три способа избавиться от них. Во-первых, можно просто удалить все соответствующие строки. Тогда результат исследований будет точнее, тк основан на более качественных данных, но сузится база выборки ровно на эти 10%. Вряд ли это в интересах заказчика исследования. Во-вторых, можно обнулить пропуски. В таком случае мы сохраним для анализа ценную информацию по этим 10% клиентов в других столбцах, но исказим результат в исследованиях, использующих в рассчетах доход или стаж. Поэтому я склоняюсь к третьему, компромиссному варианту. Рассчитаю медиану для пропущенных значений. Что с одной стороны сохранит смежную используемую информацию по всем клиентам, и при этом не значительно повлияет на расчёты связанные с доходом. Почему медиана, а не иная метрика, например арифметическое среднее? Именно медианна наиболее качественно и верно отражает самые типичные значения, когда речь идет о количественных категориях. Но для примемнения этого инструмента, присутсвующие данные в соответсвующих столбцах сперва нужно проанализировать на наличие аномалий и очистить от них."
      ]
    },
    {
      "cell_type": "markdown",
      "id": "ad92bfdb",
      "metadata": {
        "id": "ad92bfdb"
      },
      "source": [
        "####  Вывод по пропускам: похоже произошел како-то технический сбой в сборе или хранении или  выгрузки информации. Ведь если клиентам без стажа могли выдать кредит, то таковым  без дохода врядли. А значит данные дохода просто слетели и \"забрали\" с собой столбец со стажем. Или наоборот."
      ]
    },
    {
      "cell_type": "markdown",
      "id": "226d2b86",
      "metadata": {
        "id": "226d2b86"
      },
      "source": [
        "##  1.2 Аномалии в данных."
      ]
    },
    {
      "cell_type": "markdown",
      "id": "7bd818bd",
      "metadata": {
        "id": "7bd818bd"
      },
      "source": [
        "Начнем с \"проблемных\" Series. Посмотрим из чего состоит стобец days_employed при помощи статистического метода describe"
      ]
    },
    {
      "cell_type": "code",
      "execution_count": null,
      "id": "8241f3e5",
      "metadata": {
        "id": "8241f3e5",
        "outputId": "dae8e44d-c7fd-4e43-8886-a6ba7c8b6539"
      },
      "outputs": [
        {
          "data": {
            "text/plain": [
              "count     19351.000000\n",
              "mean      63046.497661\n",
              "std      140827.311974\n",
              "min      -18388.949901\n",
              "25%       -2747.423625\n",
              "50%       -1203.369529\n",
              "75%        -291.095954\n",
              "max      401755.400475\n",
              "Name: days_employed, dtype: float64"
            ]
          },
          "execution_count": 9,
          "metadata": {},
          "output_type": "execute_result"
        }
      ],
      "source": [
        "df['days_employed'].describe() # посмотрим основные статистические метрики, чтобы выявить аномалии"
      ]
    },
    {
      "cell_type": "markdown",
      "id": "c6d19576",
      "metadata": {
        "id": "c6d19576"
      },
      "source": [
        "Отрицательные значения для трудового стажа это очевидная ошибка, исправим ее. "
      ]
    },
    {
      "cell_type": "code",
      "execution_count": null,
      "id": "3805e685",
      "metadata": {
        "id": "3805e685"
      },
      "outputs": [],
      "source": [
        "df['days_employed'] = df['days_employed'].abs() # применим модуль"
      ]
    },
    {
      "cell_type": "code",
      "execution_count": null,
      "id": "94fbc731",
      "metadata": {
        "id": "94fbc731",
        "outputId": "8e02cb61-9116-4f89-c0ea-ed0f19d67e92"
      },
      "outputs": [
        {
          "data": {
            "text/plain": [
              "count     19351.000000\n",
              "mean      66914.728907\n",
              "std      139030.880527\n",
              "min          24.141633\n",
              "25%         927.009265\n",
              "50%        2194.220567\n",
              "75%        5537.882441\n",
              "max      401755.400475\n",
              "Name: days_employed, dtype: float64"
            ]
          },
          "execution_count": 11,
          "metadata": {},
          "output_type": "execute_result"
        }
      ],
      "source": [
        "df['days_employed'].describe() # так лучше, но числа все равно аномальные"
      ]
    },
    {
      "cell_type": "markdown",
      "id": "ba1a88a7",
      "metadata": {
        "id": "ba1a88a7"
      },
      "source": [
        "183 года стажа и это только в медиане! А в максиуме и воовсе больше тысячи лет. Очевидно что с этим столбцом что-то не так. Но в задачах исследования нет вопросов, ответ на который зависит от этого параметра. Поэтому оставим пока в таком виде."
      ]
    },
    {
      "cell_type": "code",
      "execution_count": null,
      "id": "23a30185",
      "metadata": {
        "id": "23a30185",
        "outputId": "b1be550b-662f-4072-eff5-c3aaf0d3284f"
      },
      "outputs": [
        {
          "data": {
            "text/plain": [
              "count    1.935100e+04\n",
              "mean     1.674223e+05\n",
              "std      1.029716e+05\n",
              "min      2.066726e+04\n",
              "25%      1.030532e+05\n",
              "50%      1.450179e+05\n",
              "75%      2.034351e+05\n",
              "max      2.265604e+06\n",
              "Name: total_income, dtype: float64"
            ]
          },
          "execution_count": 12,
          "metadata": {},
          "output_type": "execute_result"
        }
      ],
      "source": [
        "df['total_income'].describe()"
      ]
    },
    {
      "cell_type": "markdown",
      "id": "b97374f0",
      "metadata": {
        "id": "b97374f0"
      },
      "source": [
        "Тут по крайней мере нету отрицательных значений, но для дальнейшей обработки и анализа в этих столбцах пора убрать пропуски. Вместо них так же подставим медианное значение, наиболее типовое для количественных переменных и приведем значения к целочисленным."
      ]
    },
    {
      "cell_type": "code",
      "execution_count": null,
      "id": "fada38d0",
      "metadata": {
        "scrolled": true,
        "id": "fada38d0",
        "outputId": "e2e98419-68f7-4a9f-9c67-8abff0937e43"
      },
      "outputs": [
        {
          "data": {
            "text/plain": [
              "0    253875\n",
              "1    112080\n",
              "2    145885\n",
              "3    267628\n",
              "4    158616\n",
              "5    255763\n",
              "6    240525\n",
              "7    135823\n",
              "8     95856\n",
              "9    144425\n",
              "Name: total_income, dtype: int32"
            ]
          },
          "execution_count": 13,
          "metadata": {},
          "output_type": "execute_result"
        }
      ],
      "source": [
        "df['total_income'] = df['total_income'].fillna(df['total_income'].median()).astype(int) # сперва для дохода\n",
        "df['total_income'].head(10)"
      ]
    },
    {
      "cell_type": "code",
      "execution_count": null,
      "id": "d142ccaf",
      "metadata": {
        "scrolled": true,
        "id": "d142ccaf",
        "outputId": "a03410c4-a4af-4c7f-fccd-3acbaa6f1150"
      },
      "outputs": [
        {
          "data": {
            "text/plain": [
              "21515       467\n",
              "21516       914\n",
              "21517       404\n",
              "21518    373995\n",
              "21519      2351\n",
              "21520      4529\n",
              "21521    343937\n",
              "21522      2113\n",
              "21523      3112\n",
              "21524      1984\n",
              "Name: days_employed, dtype: int32"
            ]
          },
          "execution_count": 14,
          "metadata": {},
          "output_type": "execute_result"
        }
      ],
      "source": [
        "df['days_employed'] = df['days_employed'].fillna(df['days_employed'].median()).astype(int) # сделаем тоже самое для стажа\n",
        "df['days_employed'].tail(10)"
      ]
    },
    {
      "cell_type": "markdown",
      "id": "80b76532",
      "metadata": {
        "id": "80b76532"
      },
      "source": [
        "Теперь о детях. Количество вариантов не может быть большим, поэтому применим метод unique и посмотрим с чем имеем дело"
      ]
    },
    {
      "cell_type": "code",
      "execution_count": null,
      "id": "02984737",
      "metadata": {
        "scrolled": false,
        "id": "02984737",
        "outputId": "4983149d-7777-4185-c216-4366f55b8307"
      },
      "outputs": [
        {
          "data": {
            "text/plain": [
              "array([ 1,  0,  3,  2, -1,  4, 20,  5], dtype=int64)"
            ]
          },
          "execution_count": 15,
          "metadata": {},
          "output_type": "execute_result"
        }
      ],
      "source": [
        "df['children'].unique()"
      ]
    },
    {
      "cell_type": "code",
      "execution_count": null,
      "id": "45cb389c",
      "metadata": {
        "id": "45cb389c",
        "outputId": "bd2c1c35-70e7-4835-bfb2-2fc7f6d8b9b1"
      },
      "outputs": [
        {
          "data": {
            "text/plain": [
              " 0     14149\n",
              " 1      4818\n",
              " 2      2055\n",
              " 3       330\n",
              " 20       76\n",
              "-1        47\n",
              " 4        41\n",
              " 5         9\n",
              "Name: children, dtype: int64"
            ]
          },
          "execution_count": 16,
          "metadata": {},
          "output_type": "execute_result"
        }
      ],
      "source": [
        "df['children'].value_counts() # отсортируем уникальные значения по частоте использования "
      ]
    },
    {
      "cell_type": "markdown",
      "id": "edd13d83",
      "metadata": {
        "id": "edd13d83"
      },
      "source": [
        "-1 ребенок, будем считать что речь об 1 ребенке. Применим модуль."
      ]
    },
    {
      "cell_type": "code",
      "execution_count": null,
      "id": "71b4331d",
      "metadata": {
        "id": "71b4331d"
      },
      "outputs": [],
      "source": [
        "df['children'] = df['children'].abs()"
      ]
    },
    {
      "cell_type": "markdown",
      "id": "eb7789bb",
      "metadata": {
        "id": "eb7789bb"
      },
      "source": [
        "Теперь посмотрим каким клиентам удалось вырастить по 20 детей. Есть подозрение что ноль лишний и речь о двух, но это нужно проверить. Возраст клиентов, по-моему, самый показательный параметр для проверки данного предположения."
      ]
    },
    {
      "cell_type": "code",
      "execution_count": null,
      "id": "f1422099",
      "metadata": {
        "id": "f1422099",
        "outputId": "8432f2c5-8b2d-4fbe-b219-3e8818084391"
      },
      "outputs": [
        {
          "data": {
            "text/plain": [
              "dob_years\n",
              "0     1\n",
              "21    1\n",
              "23    1\n",
              "24    1\n",
              "25    1\n",
              "26    1\n",
              "27    2\n",
              "29    2\n",
              "30    3\n",
              "31    2\n",
              "32    2\n",
              "33    2\n",
              "34    3\n",
              "35    2\n",
              "36    2\n",
              "37    4\n",
              "38    1\n",
              "39    1\n",
              "40    4\n",
              "41    2\n",
              "42    3\n",
              "43    2\n",
              "44    2\n",
              "45    3\n",
              "46    3\n",
              "48    1\n",
              "49    3\n",
              "50    3\n",
              "51    1\n",
              "52    1\n",
              "53    1\n",
              "54    1\n",
              "55    1\n",
              "56    5\n",
              "57    1\n",
              "59    2\n",
              "60    1\n",
              "61    1\n",
              "62    1\n",
              "64    1\n",
              "69    1\n",
              "Name: dob_years, dtype: int64"
            ]
          },
          "execution_count": 18,
          "metadata": {},
          "output_type": "execute_result"
        }
      ],
      "source": [
        "df[df['children'] == 20].groupby('dob_years')['dob_years'].count() # группируем по возрасту \"обладателей\" 20 детей."
      ]
    },
    {
      "cell_type": "markdown",
      "id": "4f094cb8",
      "metadata": {
        "id": "4f094cb8"
      },
      "source": [
        "Действительно, \"многодетные\" клиенты подозрительно равномерно распределены по возрастной шкале. Похоже что речь всетаки о двух. Производим замену методом replace. "
      ]
    },
    {
      "cell_type": "code",
      "execution_count": null,
      "id": "7c9e5001",
      "metadata": {
        "id": "7c9e5001"
      },
      "outputs": [],
      "source": [
        "df['children'] = df['children'].replace(20, 2)"
      ]
    },
    {
      "cell_type": "code",
      "execution_count": null,
      "id": "2b807f8f",
      "metadata": {
        "id": "2b807f8f",
        "outputId": "2fde77d0-b1b4-493b-dcb4-766003505953"
      },
      "outputs": [
        {
          "data": {
            "text/plain": [
              "array([1, 0, 3, 2, 4, 5], dtype=int64)"
            ]
          },
          "execution_count": 20,
          "metadata": {},
          "output_type": "execute_result"
        }
      ],
      "source": [
        "df['children'].unique()"
      ]
    },
    {
      "cell_type": "code",
      "execution_count": null,
      "id": "97a775d4",
      "metadata": {
        "scrolled": true,
        "id": "97a775d4",
        "outputId": "3e9aae8b-bcee-415d-e35b-f64e03b6cfd6"
      },
      "outputs": [
        {
          "data": {
            "text/plain": [
              "0    14149\n",
              "1     4865\n",
              "2     2131\n",
              "3      330\n",
              "4       41\n",
              "5        9\n",
              "Name: children, dtype: int64"
            ]
          },
          "execution_count": 21,
          "metadata": {},
          "output_type": "execute_result"
        }
      ],
      "source": [
        "df['children'].value_counts()"
      ]
    },
    {
      "cell_type": "markdown",
      "id": "dd867de4",
      "metadata": {
        "id": "dd867de4"
      },
      "source": [
        "Вот теперь похоже что информация о детях соответсвует действительности."
      ]
    },
    {
      "cell_type": "code",
      "execution_count": null,
      "id": "39370bcf",
      "metadata": {
        "scrolled": true,
        "id": "39370bcf",
        "outputId": "8b551c00-fb15-4d07-ebe4-3887db7d63d5"
      },
      "outputs": [
        {
          "name": "stdout",
          "output_type": "stream",
          "text": [
            "<class 'pandas.core.frame.DataFrame'>\n",
            "RangeIndex: 21525 entries, 0 to 21524\n",
            "Data columns (total 12 columns):\n",
            " #   Column            Non-Null Count  Dtype \n",
            "---  ------            --------------  ----- \n",
            " 0   children          21525 non-null  int64 \n",
            " 1   days_employed     21525 non-null  int32 \n",
            " 2   dob_years         21525 non-null  int64 \n",
            " 3   education         21525 non-null  object\n",
            " 4   education_id      21525 non-null  int64 \n",
            " 5   family_status     21525 non-null  object\n",
            " 6   family_status_id  21525 non-null  int64 \n",
            " 7   gender            21525 non-null  object\n",
            " 8   income_type       21525 non-null  object\n",
            " 9   debt              21525 non-null  int64 \n",
            " 10  total_income      21525 non-null  int32 \n",
            " 11  purpose           21525 non-null  object\n",
            "dtypes: int32(2), int64(5), object(5)\n",
            "memory usage: 1.8+ MB\n"
          ]
        }
      ],
      "source": [
        "df.info() # проверим, все ли команды сработали"
      ]
    },
    {
      "cell_type": "markdown",
      "id": "af3e9105",
      "metadata": {
        "id": "af3e9105"
      },
      "source": [
        "Да. В количественных категориях пропуски и аномалии убрали, к более удобному целочисленному типу данные привели. "
      ]
    },
    {
      "cell_type": "markdown",
      "id": "07b54723",
      "metadata": {
        "id": "07b54723"
      },
      "source": [
        "##  1.3 Дубликаты."
      ]
    },
    {
      "cell_type": "markdown",
      "id": "cebf88b3",
      "metadata": {
        "id": "cebf88b3"
      },
      "source": [
        "Начну с выявлеения неявных дубликатов, с целью перевести их в категорию явных и затем удалить все разом. Отсортируем уникальные значения в категориальных Series по частоте использования."
      ]
    },
    {
      "cell_type": "code",
      "execution_count": null,
      "id": "a6180c7a",
      "metadata": {
        "scrolled": true,
        "id": "a6180c7a",
        "outputId": "f63f2cf8-e58d-4d43-ad11-6cbb3c020cc2"
      },
      "outputs": [
        {
          "data": {
            "text/plain": [
              "женат / замужем          12380\n",
              "гражданский брак          4177\n",
              "Не женат / не замужем     2813\n",
              "в разводе                 1195\n",
              "вдовец / вдова             960\n",
              "Name: family_status, dtype: int64"
            ]
          },
          "execution_count": 23,
          "metadata": {},
          "output_type": "execute_result"
        }
      ],
      "source": [
        "df['family_status'].value_counts() # тут все нормально"
      ]
    },
    {
      "cell_type": "code",
      "execution_count": null,
      "id": "ac86918e",
      "metadata": {
        "id": "ac86918e",
        "outputId": "2299aafc-158e-4669-9235-08be0c3ee0f6"
      },
      "outputs": [
        {
          "data": {
            "text/plain": [
              "F      14236\n",
              "M       7288\n",
              "XNA        1\n",
              "Name: gender, dtype: int64"
            ]
          },
          "execution_count": 24,
          "metadata": {},
          "output_type": "execute_result"
        }
      ],
      "source": [
        "df['gender'].value_counts() # не думаю что 1 значение XNA  повлияет на результаты, оставляю как есть"
      ]
    },
    {
      "cell_type": "code",
      "execution_count": null,
      "id": "1dcb5520",
      "metadata": {
        "id": "1dcb5520",
        "outputId": "9e63ffe3-3ae8-412c-bed5-7d4d6f57abc0"
      },
      "outputs": [
        {
          "data": {
            "text/plain": [
              "сотрудник          11119\n",
              "компаньон           5085\n",
              "пенсионер           3856\n",
              "госслужащий         1459\n",
              "безработный            2\n",
              "предприниматель        2\n",
              "студент                1\n",
              "в декрете              1\n",
              "Name: income_type, dtype: int64"
            ]
          },
          "execution_count": 25,
          "metadata": {},
          "output_type": "execute_result"
        }
      ],
      "source": [
        "df['income_type'].value_counts() # тут тоже все нормально"
      ]
    },
    {
      "cell_type": "code",
      "execution_count": null,
      "id": "e26cbdb4",
      "metadata": {
        "id": "e26cbdb4",
        "outputId": "7edbca3d-78d7-4a3e-8e76-47d3eeca89d1"
      },
      "outputs": [
        {
          "data": {
            "text/plain": [
              "среднее                13750\n",
              "высшее                  4718\n",
              "СРЕДНЕЕ                  772\n",
              "Среднее                  711\n",
              "неоконченное высшее      668\n",
              "ВЫСШЕЕ                   274\n",
              "Высшее                   268\n",
              "начальное                250\n",
              "Неоконченное высшее       47\n",
              "НЕОКОНЧЕННОЕ ВЫСШЕЕ       29\n",
              "НАЧАЛЬНОЕ                 17\n",
              "Начальное                 15\n",
              "ученая степень             4\n",
              "Ученая степень             1\n",
              "УЧЕНАЯ СТЕПЕНЬ             1\n",
              "Name: education, dtype: int64"
            ]
          },
          "execution_count": 26,
          "metadata": {},
          "output_type": "execute_result"
        }
      ],
      "source": [
        "df['education'].value_counts() # а вот тут проблема, значения необходимо привести к единообразному виду"
      ]
    },
    {
      "cell_type": "code",
      "execution_count": null,
      "id": "43583bef",
      "metadata": {
        "id": "43583bef"
      },
      "outputs": [],
      "source": [
        "df['education'] = df['education'].str.lower() # Приведу значения к универсальному виду при помощи метода str.lower()"
      ]
    },
    {
      "cell_type": "code",
      "execution_count": null,
      "id": "f0c1e8fe",
      "metadata": {
        "id": "f0c1e8fe",
        "outputId": "86a738b8-b04f-43bc-8895-1ab0a903d578"
      },
      "outputs": [
        {
          "data": {
            "text/plain": [
              "среднее                15233\n",
              "высшее                  5260\n",
              "неоконченное высшее      744\n",
              "начальное                282\n",
              "ученая степень             6\n",
              "Name: education, dtype: int64"
            ]
          },
          "execution_count": 28,
          "metadata": {},
          "output_type": "execute_result"
        }
      ],
      "source": [
        "df['education'].value_counts() # так лучше"
      ]
    },
    {
      "cell_type": "code",
      "execution_count": null,
      "id": "feba0e0d",
      "metadata": {
        "id": "feba0e0d",
        "outputId": "da934dd9-f2ff-470e-80b5-93b570f3ad68"
      },
      "outputs": [
        {
          "data": {
            "text/plain": [
              "71"
            ]
          },
          "execution_count": 29,
          "metadata": {},
          "output_type": "execute_result"
        }
      ],
      "source": [
        "df.duplicated().sum() # 71 явных дубликатов, от которых нужно избавиться"
      ]
    },
    {
      "cell_type": "code",
      "execution_count": null,
      "id": "e58c245b",
      "metadata": {
        "id": "e58c245b"
      },
      "outputs": [],
      "source": [
        "df = df.drop_duplicates().reset_index(drop=True)  # и удалим их"
      ]
    },
    {
      "cell_type": "code",
      "execution_count": null,
      "id": "c19f62b8",
      "metadata": {
        "scrolled": true,
        "id": "c19f62b8",
        "outputId": "a74ca59f-97bf-46e5-cd69-25e95be97095"
      },
      "outputs": [
        {
          "name": "stdout",
          "output_type": "stream",
          "text": [
            "<class 'pandas.core.frame.DataFrame'>\n",
            "RangeIndex: 21454 entries, 0 to 21453\n",
            "Data columns (total 12 columns):\n",
            " #   Column            Non-Null Count  Dtype \n",
            "---  ------            --------------  ----- \n",
            " 0   children          21454 non-null  int64 \n",
            " 1   days_employed     21454 non-null  int32 \n",
            " 2   dob_years         21454 non-null  int64 \n",
            " 3   education         21454 non-null  object\n",
            " 4   education_id      21454 non-null  int64 \n",
            " 5   family_status     21454 non-null  object\n",
            " 6   family_status_id  21454 non-null  int64 \n",
            " 7   gender            21454 non-null  object\n",
            " 8   income_type       21454 non-null  object\n",
            " 9   debt              21454 non-null  int64 \n",
            " 10  total_income      21454 non-null  int32 \n",
            " 11  purpose           21454 non-null  object\n",
            "dtypes: int32(2), int64(5), object(5)\n",
            "memory usage: 1.8+ MB\n"
          ]
        }
      ],
      "source": [
        "df.info() # проверим что получилось, и правда, строк стало меньше ровно на 71 штуку"
      ]
    },
    {
      "cell_type": "markdown",
      "id": "a30f7467",
      "metadata": {
        "id": "a30f7467"
      },
      "source": [
        "###  Вывод по "
      ]
    },
    {
      "cell_type": "markdown",
      "id": "02de2199",
      "metadata": {
        "id": "02de2199"
      },
      "source": [
        "##  1.4 Категоризация."
      ]
    },
    {
      "cell_type": "markdown",
      "id": "3d292a3b",
      "metadata": {
        "id": "3d292a3b"
      },
      "source": [
        "Чтобы оптимизировать дальнейшие рассчеты и саму мастер-таблицу и привести ее в удобный читаемый вид, удалим из нее категориальные текстовые Series. Оставив при этом соответсующие им ID и создав из текстовых значений отделльные файлы-словари, к которым можно будет обращаться при необходимости.  "
      ]
    },
    {
      "cell_type": "code",
      "execution_count": null,
      "id": "12cf71e2",
      "metadata": {
        "id": "12cf71e2",
        "outputId": "d8e3536b-c176-4e12-907c-a27e7cf27c36"
      },
      "outputs": [
        {
          "data": {
            "text/html": [
              "<div>\n",
              "<style scoped>\n",
              "    .dataframe tbody tr th:only-of-type {\n",
              "        vertical-align: middle;\n",
              "    }\n",
              "\n",
              "    .dataframe tbody tr th {\n",
              "        vertical-align: top;\n",
              "    }\n",
              "\n",
              "    .dataframe thead th {\n",
              "        text-align: right;\n",
              "    }\n",
              "</style>\n",
              "<table border=\"1\" class=\"dataframe\">\n",
              "  <thead>\n",
              "    <tr style=\"text-align: right;\">\n",
              "      <th></th>\n",
              "      <th>education_id</th>\n",
              "      <th>education</th>\n",
              "    </tr>\n",
              "  </thead>\n",
              "  <tbody>\n",
              "    <tr>\n",
              "      <th>0</th>\n",
              "      <td>0</td>\n",
              "      <td>высшее</td>\n",
              "    </tr>\n",
              "    <tr>\n",
              "      <th>1</th>\n",
              "      <td>1</td>\n",
              "      <td>среднее</td>\n",
              "    </tr>\n",
              "    <tr>\n",
              "      <th>2</th>\n",
              "      <td>2</td>\n",
              "      <td>неоконченное высшее</td>\n",
              "    </tr>\n",
              "    <tr>\n",
              "      <th>3</th>\n",
              "      <td>3</td>\n",
              "      <td>начальное</td>\n",
              "    </tr>\n",
              "    <tr>\n",
              "      <th>4</th>\n",
              "      <td>4</td>\n",
              "      <td>ученая степень</td>\n",
              "    </tr>\n",
              "  </tbody>\n",
              "</table>\n",
              "</div>"
            ],
            "text/plain": [
              "   education_id            education\n",
              "0             0               высшее\n",
              "1             1              среднее\n",
              "2             2  неоконченное высшее\n",
              "3             3            начальное\n",
              "4             4       ученая степень"
            ]
          },
          "execution_count": 32,
          "metadata": {},
          "output_type": "execute_result"
        }
      ],
      "source": [
        "df_education = df[['education_id','education']] # создание словаря с уровнем образования\n",
        "df_education = df_education.drop_duplicates().reset_index(drop=True) # удаление явных дубликатов\n",
        "df_education # словарь готов!"
      ]
    },
    {
      "cell_type": "code",
      "execution_count": null,
      "id": "c3e1ae65",
      "metadata": {
        "id": "c3e1ae65",
        "outputId": "09d55317-48bd-4dd8-c9ab-fa0253ae8615"
      },
      "outputs": [
        {
          "data": {
            "text/html": [
              "<div>\n",
              "<style scoped>\n",
              "    .dataframe tbody tr th:only-of-type {\n",
              "        vertical-align: middle;\n",
              "    }\n",
              "\n",
              "    .dataframe tbody tr th {\n",
              "        vertical-align: top;\n",
              "    }\n",
              "\n",
              "    .dataframe thead th {\n",
              "        text-align: right;\n",
              "    }\n",
              "</style>\n",
              "<table border=\"1\" class=\"dataframe\">\n",
              "  <thead>\n",
              "    <tr style=\"text-align: right;\">\n",
              "      <th></th>\n",
              "      <th>family_status_id</th>\n",
              "      <th>family_status</th>\n",
              "    </tr>\n",
              "  </thead>\n",
              "  <tbody>\n",
              "    <tr>\n",
              "      <th>0</th>\n",
              "      <td>0</td>\n",
              "      <td>женат / замужем</td>\n",
              "    </tr>\n",
              "    <tr>\n",
              "      <th>1</th>\n",
              "      <td>1</td>\n",
              "      <td>гражданский брак</td>\n",
              "    </tr>\n",
              "    <tr>\n",
              "      <th>2</th>\n",
              "      <td>2</td>\n",
              "      <td>вдовец / вдова</td>\n",
              "    </tr>\n",
              "    <tr>\n",
              "      <th>3</th>\n",
              "      <td>3</td>\n",
              "      <td>в разводе</td>\n",
              "    </tr>\n",
              "    <tr>\n",
              "      <th>4</th>\n",
              "      <td>4</td>\n",
              "      <td>Не женат / не замужем</td>\n",
              "    </tr>\n",
              "  </tbody>\n",
              "</table>\n",
              "</div>"
            ],
            "text/plain": [
              "   family_status_id          family_status\n",
              "0                 0        женат / замужем\n",
              "1                 1       гражданский брак\n",
              "2                 2         вдовец / вдова\n",
              "3                 3              в разводе\n",
              "4                 4  Не женат / не замужем"
            ]
          },
          "execution_count": 33,
          "metadata": {},
          "output_type": "execute_result"
        }
      ],
      "source": [
        "df_family_status = df[['family_status_id','family_status']] # создание словаря с семейным положением\n",
        "df_family_status = df_family_status.drop_duplicates().reset_index(drop=True) # удаление явных дубликатов\n",
        "df_family_status # словарь готов!"
      ]
    },
    {
      "cell_type": "markdown",
      "id": "d89e4eb8",
      "metadata": {
        "id": "d89e4eb8"
      },
      "source": [
        "Доходы (столбец total_income) c огромным количеством уникальных значений так же нужно категоризировать  Для этого создадим новый Series 'total_income_category' в котором обозначим к какой группе из 5-ти уровней дохода принадлежит конкретный клиент. А сделаем это через отдельную функцию."
      ]
    },
    {
      "cell_type": "code",
      "execution_count": null,
      "id": "44eecd3d",
      "metadata": {
        "id": "44eecd3d"
      },
      "outputs": [],
      "source": [
        "def total_income_category(income):\n",
        "    \"\"\"\n",
        "    Возвращает группу дохода клиента по значению уровня дохода income, используя правила:\n",
        "    - 'E', если income <= 30000 ;\n",
        "    - 'D', если income 30001–50000 ;\n",
        "    - 'C', если income 50001–200000 ;\n",
        "    - 'B', если income 200001–1000000 ;\n",
        "    - 'A', если income >= 1000001 ; \n",
        "    \"\"\"\n",
        "    if income <= 30000:\n",
        "        return 'E'\n",
        "    if 30001 <= income <= 50000:\n",
        "        return 'D'\n",
        "    if 50001 <= income <= 200000:\n",
        "        return 'C'\n",
        "    if 200001 <= income <= 1000000:\n",
        "        return 'B'\n",
        "    return 'A' "
      ]
    },
    {
      "cell_type": "markdown",
      "id": "a2c666f7",
      "metadata": {
        "id": "a2c666f7"
      },
      "source": [
        "Создадим новый столбец 'total_income_category', в который применим эту функцию для доходов(столбец total_income) с помощью метода apply"
      ]
    },
    {
      "cell_type": "code",
      "execution_count": null,
      "id": "086dad2a",
      "metadata": {
        "id": "086dad2a",
        "outputId": "8b000341-d749-42bd-9223-dd063b7a285e"
      },
      "outputs": [
        {
          "data": {
            "text/html": [
              "<div>\n",
              "<style scoped>\n",
              "    .dataframe tbody tr th:only-of-type {\n",
              "        vertical-align: middle;\n",
              "    }\n",
              "\n",
              "    .dataframe tbody tr th {\n",
              "        vertical-align: top;\n",
              "    }\n",
              "\n",
              "    .dataframe thead th {\n",
              "        text-align: right;\n",
              "    }\n",
              "</style>\n",
              "<table border=\"1\" class=\"dataframe\">\n",
              "  <thead>\n",
              "    <tr style=\"text-align: right;\">\n",
              "      <th></th>\n",
              "      <th>children</th>\n",
              "      <th>days_employed</th>\n",
              "      <th>dob_years</th>\n",
              "      <th>education</th>\n",
              "      <th>education_id</th>\n",
              "      <th>family_status</th>\n",
              "      <th>family_status_id</th>\n",
              "      <th>gender</th>\n",
              "      <th>income_type</th>\n",
              "      <th>debt</th>\n",
              "      <th>total_income</th>\n",
              "      <th>purpose</th>\n",
              "      <th>total_income_category</th>\n",
              "    </tr>\n",
              "  </thead>\n",
              "  <tbody>\n",
              "    <tr>\n",
              "      <th>0</th>\n",
              "      <td>1</td>\n",
              "      <td>8437</td>\n",
              "      <td>42</td>\n",
              "      <td>высшее</td>\n",
              "      <td>0</td>\n",
              "      <td>женат / замужем</td>\n",
              "      <td>0</td>\n",
              "      <td>F</td>\n",
              "      <td>сотрудник</td>\n",
              "      <td>0</td>\n",
              "      <td>253875</td>\n",
              "      <td>покупка жилья</td>\n",
              "      <td>B</td>\n",
              "    </tr>\n",
              "    <tr>\n",
              "      <th>1</th>\n",
              "      <td>1</td>\n",
              "      <td>4024</td>\n",
              "      <td>36</td>\n",
              "      <td>среднее</td>\n",
              "      <td>1</td>\n",
              "      <td>женат / замужем</td>\n",
              "      <td>0</td>\n",
              "      <td>F</td>\n",
              "      <td>сотрудник</td>\n",
              "      <td>0</td>\n",
              "      <td>112080</td>\n",
              "      <td>приобретение автомобиля</td>\n",
              "      <td>C</td>\n",
              "    </tr>\n",
              "    <tr>\n",
              "      <th>2</th>\n",
              "      <td>0</td>\n",
              "      <td>5623</td>\n",
              "      <td>33</td>\n",
              "      <td>среднее</td>\n",
              "      <td>1</td>\n",
              "      <td>женат / замужем</td>\n",
              "      <td>0</td>\n",
              "      <td>M</td>\n",
              "      <td>сотрудник</td>\n",
              "      <td>0</td>\n",
              "      <td>145885</td>\n",
              "      <td>покупка жилья</td>\n",
              "      <td>C</td>\n",
              "    </tr>\n",
              "    <tr>\n",
              "      <th>3</th>\n",
              "      <td>3</td>\n",
              "      <td>4124</td>\n",
              "      <td>32</td>\n",
              "      <td>среднее</td>\n",
              "      <td>1</td>\n",
              "      <td>женат / замужем</td>\n",
              "      <td>0</td>\n",
              "      <td>M</td>\n",
              "      <td>сотрудник</td>\n",
              "      <td>0</td>\n",
              "      <td>267628</td>\n",
              "      <td>дополнительное образование</td>\n",
              "      <td>B</td>\n",
              "    </tr>\n",
              "    <tr>\n",
              "      <th>4</th>\n",
              "      <td>0</td>\n",
              "      <td>340266</td>\n",
              "      <td>53</td>\n",
              "      <td>среднее</td>\n",
              "      <td>1</td>\n",
              "      <td>гражданский брак</td>\n",
              "      <td>1</td>\n",
              "      <td>F</td>\n",
              "      <td>пенсионер</td>\n",
              "      <td>0</td>\n",
              "      <td>158616</td>\n",
              "      <td>сыграть свадьбу</td>\n",
              "      <td>C</td>\n",
              "    </tr>\n",
              "    <tr>\n",
              "      <th>5</th>\n",
              "      <td>0</td>\n",
              "      <td>926</td>\n",
              "      <td>27</td>\n",
              "      <td>высшее</td>\n",
              "      <td>0</td>\n",
              "      <td>гражданский брак</td>\n",
              "      <td>1</td>\n",
              "      <td>M</td>\n",
              "      <td>компаньон</td>\n",
              "      <td>0</td>\n",
              "      <td>255763</td>\n",
              "      <td>покупка жилья</td>\n",
              "      <td>B</td>\n",
              "    </tr>\n",
              "    <tr>\n",
              "      <th>6</th>\n",
              "      <td>0</td>\n",
              "      <td>2879</td>\n",
              "      <td>43</td>\n",
              "      <td>высшее</td>\n",
              "      <td>0</td>\n",
              "      <td>женат / замужем</td>\n",
              "      <td>0</td>\n",
              "      <td>F</td>\n",
              "      <td>компаньон</td>\n",
              "      <td>0</td>\n",
              "      <td>240525</td>\n",
              "      <td>операции с жильем</td>\n",
              "      <td>B</td>\n",
              "    </tr>\n",
              "    <tr>\n",
              "      <th>7</th>\n",
              "      <td>0</td>\n",
              "      <td>152</td>\n",
              "      <td>50</td>\n",
              "      <td>среднее</td>\n",
              "      <td>1</td>\n",
              "      <td>женат / замужем</td>\n",
              "      <td>0</td>\n",
              "      <td>M</td>\n",
              "      <td>сотрудник</td>\n",
              "      <td>0</td>\n",
              "      <td>135823</td>\n",
              "      <td>образование</td>\n",
              "      <td>C</td>\n",
              "    </tr>\n",
              "    <tr>\n",
              "      <th>8</th>\n",
              "      <td>2</td>\n",
              "      <td>6929</td>\n",
              "      <td>35</td>\n",
              "      <td>высшее</td>\n",
              "      <td>0</td>\n",
              "      <td>гражданский брак</td>\n",
              "      <td>1</td>\n",
              "      <td>F</td>\n",
              "      <td>сотрудник</td>\n",
              "      <td>0</td>\n",
              "      <td>95856</td>\n",
              "      <td>на проведение свадьбы</td>\n",
              "      <td>C</td>\n",
              "    </tr>\n",
              "    <tr>\n",
              "      <th>9</th>\n",
              "      <td>0</td>\n",
              "      <td>2188</td>\n",
              "      <td>41</td>\n",
              "      <td>среднее</td>\n",
              "      <td>1</td>\n",
              "      <td>женат / замужем</td>\n",
              "      <td>0</td>\n",
              "      <td>M</td>\n",
              "      <td>сотрудник</td>\n",
              "      <td>0</td>\n",
              "      <td>144425</td>\n",
              "      <td>покупка жилья для семьи</td>\n",
              "      <td>C</td>\n",
              "    </tr>\n",
              "  </tbody>\n",
              "</table>\n",
              "</div>"
            ],
            "text/plain": [
              "   children  days_employed  dob_years education  education_id  \\\n",
              "0         1           8437         42    высшее             0   \n",
              "1         1           4024         36   среднее             1   \n",
              "2         0           5623         33   среднее             1   \n",
              "3         3           4124         32   среднее             1   \n",
              "4         0         340266         53   среднее             1   \n",
              "5         0            926         27    высшее             0   \n",
              "6         0           2879         43    высшее             0   \n",
              "7         0            152         50   среднее             1   \n",
              "8         2           6929         35    высшее             0   \n",
              "9         0           2188         41   среднее             1   \n",
              "\n",
              "      family_status  family_status_id gender income_type  debt  total_income  \\\n",
              "0   женат / замужем                 0      F   сотрудник     0        253875   \n",
              "1   женат / замужем                 0      F   сотрудник     0        112080   \n",
              "2   женат / замужем                 0      M   сотрудник     0        145885   \n",
              "3   женат / замужем                 0      M   сотрудник     0        267628   \n",
              "4  гражданский брак                 1      F   пенсионер     0        158616   \n",
              "5  гражданский брак                 1      M   компаньон     0        255763   \n",
              "6   женат / замужем                 0      F   компаньон     0        240525   \n",
              "7   женат / замужем                 0      M   сотрудник     0        135823   \n",
              "8  гражданский брак                 1      F   сотрудник     0         95856   \n",
              "9   женат / замужем                 0      M   сотрудник     0        144425   \n",
              "\n",
              "                      purpose total_income_category  \n",
              "0               покупка жилья                     B  \n",
              "1     приобретение автомобиля                     C  \n",
              "2               покупка жилья                     C  \n",
              "3  дополнительное образование                     B  \n",
              "4             сыграть свадьбу                     C  \n",
              "5               покупка жилья                     B  \n",
              "6           операции с жильем                     B  \n",
              "7                 образование                     C  \n",
              "8       на проведение свадьбы                     C  \n",
              "9     покупка жилья для семьи                     C  "
            ]
          },
          "execution_count": 35,
          "metadata": {},
          "output_type": "execute_result"
        }
      ],
      "source": [
        "df['total_income_category'] = df['total_income'].apply(total_income_category)\n",
        "df.head(10) "
      ]
    },
    {
      "cell_type": "markdown",
      "id": "d2829a64",
      "metadata": {
        "id": "d2829a64"
      },
      "source": [
        "Получилось, но не очень красиво, что новый столбец попал в самый конец таблицы. Переместим его в место, рядом с исходным столбцом с доходами. Да, я планирую столбец с доходами в будущем совсем удалить, но не хочется нарушать существующую логику колонок. Для этого методом columns вызову названия колонок, и при помощи индексации создам новый df с желаемым расположением."
      ]
    },
    {
      "cell_type": "code",
      "execution_count": null,
      "id": "0d85e1da",
      "metadata": {
        "scrolled": true,
        "id": "0d85e1da",
        "outputId": "151c9c99-b779-4f6a-a913-e53d1e1dfb1a"
      },
      "outputs": [
        {
          "data": {
            "text/plain": [
              "Index(['children', 'days_employed', 'dob_years', 'education', 'education_id',\n",
              "       'family_status', 'family_status_id', 'gender', 'income_type', 'debt',\n",
              "       'total_income', 'purpose', 'total_income_category'],\n",
              "      dtype='object')"
            ]
          },
          "execution_count": 36,
          "metadata": {},
          "output_type": "execute_result"
        }
      ],
      "source": [
        "df.columns"
      ]
    },
    {
      "cell_type": "code",
      "execution_count": null,
      "id": "ac473db8",
      "metadata": {
        "id": "ac473db8",
        "outputId": "b02b2eaf-10a8-43fe-d760-e161c9f5b763"
      },
      "outputs": [
        {
          "data": {
            "text/html": [
              "<div>\n",
              "<style scoped>\n",
              "    .dataframe tbody tr th:only-of-type {\n",
              "        vertical-align: middle;\n",
              "    }\n",
              "\n",
              "    .dataframe tbody tr th {\n",
              "        vertical-align: top;\n",
              "    }\n",
              "\n",
              "    .dataframe thead th {\n",
              "        text-align: right;\n",
              "    }\n",
              "</style>\n",
              "<table border=\"1\" class=\"dataframe\">\n",
              "  <thead>\n",
              "    <tr style=\"text-align: right;\">\n",
              "      <th></th>\n",
              "      <th>children</th>\n",
              "      <th>days_employed</th>\n",
              "      <th>dob_years</th>\n",
              "      <th>education</th>\n",
              "      <th>education_id</th>\n",
              "      <th>family_status</th>\n",
              "      <th>family_status_id</th>\n",
              "      <th>gender</th>\n",
              "      <th>income_type</th>\n",
              "      <th>debt</th>\n",
              "      <th>total_income</th>\n",
              "      <th>total_income_category</th>\n",
              "      <th>purpose</th>\n",
              "    </tr>\n",
              "  </thead>\n",
              "  <tbody>\n",
              "    <tr>\n",
              "      <th>0</th>\n",
              "      <td>1</td>\n",
              "      <td>8437</td>\n",
              "      <td>42</td>\n",
              "      <td>высшее</td>\n",
              "      <td>0</td>\n",
              "      <td>женат / замужем</td>\n",
              "      <td>0</td>\n",
              "      <td>F</td>\n",
              "      <td>сотрудник</td>\n",
              "      <td>0</td>\n",
              "      <td>253875</td>\n",
              "      <td>B</td>\n",
              "      <td>покупка жилья</td>\n",
              "    </tr>\n",
              "    <tr>\n",
              "      <th>1</th>\n",
              "      <td>1</td>\n",
              "      <td>4024</td>\n",
              "      <td>36</td>\n",
              "      <td>среднее</td>\n",
              "      <td>1</td>\n",
              "      <td>женат / замужем</td>\n",
              "      <td>0</td>\n",
              "      <td>F</td>\n",
              "      <td>сотрудник</td>\n",
              "      <td>0</td>\n",
              "      <td>112080</td>\n",
              "      <td>C</td>\n",
              "      <td>приобретение автомобиля</td>\n",
              "    </tr>\n",
              "    <tr>\n",
              "      <th>2</th>\n",
              "      <td>0</td>\n",
              "      <td>5623</td>\n",
              "      <td>33</td>\n",
              "      <td>среднее</td>\n",
              "      <td>1</td>\n",
              "      <td>женат / замужем</td>\n",
              "      <td>0</td>\n",
              "      <td>M</td>\n",
              "      <td>сотрудник</td>\n",
              "      <td>0</td>\n",
              "      <td>145885</td>\n",
              "      <td>C</td>\n",
              "      <td>покупка жилья</td>\n",
              "    </tr>\n",
              "    <tr>\n",
              "      <th>3</th>\n",
              "      <td>3</td>\n",
              "      <td>4124</td>\n",
              "      <td>32</td>\n",
              "      <td>среднее</td>\n",
              "      <td>1</td>\n",
              "      <td>женат / замужем</td>\n",
              "      <td>0</td>\n",
              "      <td>M</td>\n",
              "      <td>сотрудник</td>\n",
              "      <td>0</td>\n",
              "      <td>267628</td>\n",
              "      <td>B</td>\n",
              "      <td>дополнительное образование</td>\n",
              "    </tr>\n",
              "    <tr>\n",
              "      <th>4</th>\n",
              "      <td>0</td>\n",
              "      <td>340266</td>\n",
              "      <td>53</td>\n",
              "      <td>среднее</td>\n",
              "      <td>1</td>\n",
              "      <td>гражданский брак</td>\n",
              "      <td>1</td>\n",
              "      <td>F</td>\n",
              "      <td>пенсионер</td>\n",
              "      <td>0</td>\n",
              "      <td>158616</td>\n",
              "      <td>C</td>\n",
              "      <td>сыграть свадьбу</td>\n",
              "    </tr>\n",
              "  </tbody>\n",
              "</table>\n",
              "</div>"
            ],
            "text/plain": [
              "   children  days_employed  dob_years education  education_id  \\\n",
              "0         1           8437         42    высшее             0   \n",
              "1         1           4024         36   среднее             1   \n",
              "2         0           5623         33   среднее             1   \n",
              "3         3           4124         32   среднее             1   \n",
              "4         0         340266         53   среднее             1   \n",
              "\n",
              "      family_status  family_status_id gender income_type  debt  total_income  \\\n",
              "0   женат / замужем                 0      F   сотрудник     0        253875   \n",
              "1   женат / замужем                 0      F   сотрудник     0        112080   \n",
              "2   женат / замужем                 0      M   сотрудник     0        145885   \n",
              "3   женат / замужем                 0      M   сотрудник     0        267628   \n",
              "4  гражданский брак                 1      F   пенсионер     0        158616   \n",
              "\n",
              "  total_income_category                     purpose  \n",
              "0                     B               покупка жилья  \n",
              "1                     C     приобретение автомобиля  \n",
              "2                     C               покупка жилья  \n",
              "3                     B  дополнительное образование  \n",
              "4                     C             сыграть свадьбу  "
            ]
          },
          "execution_count": 37,
          "metadata": {},
          "output_type": "execute_result"
        }
      ],
      "source": [
        "df = df[['children', 'days_employed', 'dob_years', 'education', 'education_id',\n",
        "       'family_status', 'family_status_id', 'gender', 'income_type', 'debt',\n",
        "       'total_income','total_income_category','purpose']]\n",
        "df.head() # внутрненний перфекционист выдохнул"
      ]
    },
    {
      "cell_type": "code",
      "execution_count": null,
      "id": "1e43ca72",
      "metadata": {
        "id": "1e43ca72",
        "outputId": "84c98b8e-f9d1-4a17-9be8-654bf35dd257"
      },
      "outputs": [
        {
          "data": {
            "text/plain": [
              "свадьба                                   791\n",
              "на проведение свадьбы                     768\n",
              "сыграть свадьбу                           765\n",
              "операции с недвижимостью                  675\n",
              "покупка коммерческой недвижимости         661\n",
              "операции с жильем                         652\n",
              "покупка жилья для сдачи                   651\n",
              "операции с коммерческой недвижимостью     650\n",
              "покупка жилья                             646\n",
              "жилье                                     646\n",
              "покупка жилья для семьи                   638\n",
              "строительство собственной недвижимости    635\n",
              "недвижимость                              633\n",
              "операции со своей недвижимостью           627\n",
              "строительство жилой недвижимости          624\n",
              "покупка недвижимости                      621\n",
              "покупка своего жилья                      620\n",
              "строительство недвижимости                619\n",
              "ремонт жилью                              607\n",
              "покупка жилой недвижимости                606\n",
              "на покупку своего автомобиля              505\n",
              "заняться высшим образованием              496\n",
              "автомобиль                                494\n",
              "сделка с подержанным автомобилем          486\n",
              "свой автомобиль                           478\n",
              "на покупку подержанного автомобиля        478\n",
              "автомобили                                478\n",
              "на покупку автомобиля                     471\n",
              "приобретение автомобиля                   461\n",
              "дополнительное образование                460\n",
              "сделка с автомобилем                      455\n",
              "высшее образование                        452\n",
              "образование                               447\n",
              "получение дополнительного образования     446\n",
              "получение образования                     442\n",
              "профильное образование                    436\n",
              "получение высшего образования             426\n",
              "заняться образованием                     408\n",
              "Name: purpose, dtype: int64"
            ]
          },
          "execution_count": 38,
          "metadata": {},
          "output_type": "execute_result"
        }
      ],
      "source": [
        "df['purpose'].value_counts() # Посмотрим из каких значений состоит колонка с целями кредитования"
      ]
    },
    {
      "cell_type": "markdown",
      "id": "0794b296",
      "metadata": {
        "id": "0794b296"
      },
      "source": [
        "Очень много разных целей, суть которых можно свести к 4-м категориям:\n",
        " - операции с автомобилем,\n",
        " - операции с недвижимостью,\n",
        " - проведение свадьбы,\n",
        " - получение образования.\n",
        " \n",
        "Реализуем это так же через создание функции."
      ]
    },
    {
      "cell_type": "code",
      "execution_count": null,
      "id": "61ef1ca2",
      "metadata": {
        "id": "61ef1ca2"
      },
      "outputs": [],
      "source": [
        "list_df = df['purpose'].tolist() # Преобразуем Series в список\n",
        "def purpose_category(list_df): # объявим функцию, которая пройдет циклом по всему списку и вернет категории\n",
        "    \"\"\"  Возвращает обобщенную категорию целей кредита по ключевым словам \"\"\"\n",
        "    for cell in list_df:\n",
        "        if 'авто' in list_df:\n",
        "            return 'операции с автомобилем'\n",
        "        elif 'недвиж' in list_df:\n",
        "            return 'операции с недвижимостью'\n",
        "        elif 'жиль' in list_df:\n",
        "            return 'операции с недвижимостью'\n",
        "        elif 'свадь' in list_df:\n",
        "            return 'проведение свадьбы'\n",
        "        elif 'образован' in list_df:\n",
        "            return 'получение образования'\n",
        "        else:\n",
        "            return 'None' # оставим для проверки, все ли значения удалось обработать и заменить\n",
        "\n",
        " "
      ]
    },
    {
      "cell_type": "code",
      "execution_count": null,
      "id": "099dff16",
      "metadata": {
        "id": "099dff16"
      },
      "outputs": [],
      "source": [
        "df['purpose_category'] = df['purpose'].apply(purpose_category)"
      ]
    },
    {
      "cell_type": "code",
      "execution_count": null,
      "id": "d9b5aa32",
      "metadata": {
        "scrolled": false,
        "id": "d9b5aa32",
        "outputId": "d72acbe6-bb22-496c-f14e-2eeac38744fa"
      },
      "outputs": [
        {
          "data": {
            "text/plain": [
              "операции с недвижимостью    10811\n",
              "операции с автомобилем       4306\n",
              "получение образования        4013\n",
              "проведение свадьбы           2324\n",
              "Name: purpose_category, dtype: int64"
            ]
          },
          "execution_count": 41,
          "metadata": {},
          "output_type": "execute_result"
        }
      ],
      "source": [
        "df['purpose_category'].value_counts() # Да, похоже функция сработала как нужно"
      ]
    },
    {
      "cell_type": "markdown",
      "id": "bfc2fc5a",
      "metadata": {
        "id": "bfc2fc5a"
      },
      "source": [
        "#   Анализ"
      ]
    },
    {
      "cell_type": "markdown",
      "id": "fb35c3bf",
      "metadata": {
        "id": "fb35c3bf"
      },
      "source": [
        "Для начала создам таблицу без лишних столбцов. Все дальнейшие рассчеты уже буду делать по ней, подтягивая названия категорий из словарей функцией объеденения таблиц \"merge\""
      ]
    },
    {
      "cell_type": "code",
      "execution_count": null,
      "id": "9c31373f",
      "metadata": {
        "id": "9c31373f",
        "outputId": "818ab652-e2bd-419a-f396-2af4552af8c3"
      },
      "outputs": [
        {
          "data": {
            "text/plain": [
              "Index(['children', 'days_employed', 'dob_years', 'education', 'education_id',\n",
              "       'family_status', 'family_status_id', 'gender', 'income_type', 'debt',\n",
              "       'total_income', 'total_income_category', 'purpose', 'purpose_category'],\n",
              "      dtype='object')"
            ]
          },
          "execution_count": 42,
          "metadata": {},
          "output_type": "execute_result"
        }
      ],
      "source": [
        "df.columns"
      ]
    },
    {
      "cell_type": "code",
      "execution_count": null,
      "id": "60d47699",
      "metadata": {
        "id": "60d47699",
        "outputId": "718ddcc0-5f85-4c95-d3d0-6b2693163900"
      },
      "outputs": [
        {
          "name": "stdout",
          "output_type": "stream",
          "text": [
            "<class 'pandas.core.frame.DataFrame'>\n",
            "RangeIndex: 21454 entries, 0 to 21453\n",
            "Data columns (total 7 columns):\n",
            " #   Column                 Non-Null Count  Dtype \n",
            "---  ------                 --------------  ----- \n",
            " 0   children               21454 non-null  int64 \n",
            " 1   education_id           21454 non-null  int64 \n",
            " 2   family_status_id       21454 non-null  int64 \n",
            " 3   gender                 21454 non-null  object\n",
            " 4   debt                   21454 non-null  int64 \n",
            " 5   total_income_category  21454 non-null  object\n",
            " 6   purpose_category       21454 non-null  object\n",
            "dtypes: int64(4), object(3)\n",
            "memory usage: 1.1+ MB\n"
          ]
        }
      ],
      "source": [
        "df_cut = df[['children', 'education_id', 'family_status_id','gender','debt', 'total_income_category','purpose_category']] # создание словаря с уровнем образования\n",
        "df_cut.head(10) # \n",
        "df_cut.info()\n"
      ]
    },
    {
      "cell_type": "markdown",
      "id": "836b0ccd",
      "metadata": {
        "id": "836b0ccd"
      },
      "source": [
        "####   Таблица готова. Далее будем дейстовать по следующему шаблону. Создадим сводную таблицу в которой данные будут группироваться по интересующей нас категории и подсичтываться процент проблемных кредитов по отношению к хорошим."
      ]
    },
    {
      "cell_type": "markdown",
      "id": "9822a236",
      "metadata": {
        "id": "9822a236"
      },
      "source": [
        "## Дети."
      ]
    },
    {
      "cell_type": "code",
      "execution_count": null,
      "id": "31c9a27a",
      "metadata": {
        "scrolled": true,
        "id": "31c9a27a",
        "outputId": "366ba347-6ef3-47de-e597-73a1e9a620d3"
      },
      "outputs": [
        {
          "data": {
            "text/html": [
              "<div>\n",
              "<style scoped>\n",
              "    .dataframe tbody tr th:only-of-type {\n",
              "        vertical-align: middle;\n",
              "    }\n",
              "\n",
              "    .dataframe tbody tr th {\n",
              "        vertical-align: top;\n",
              "    }\n",
              "\n",
              "    .dataframe thead th {\n",
              "        text-align: right;\n",
              "    }\n",
              "</style>\n",
              "<table border=\"1\" class=\"dataframe\">\n",
              "  <thead>\n",
              "    <tr style=\"text-align: right;\">\n",
              "      <th>debt</th>\n",
              "      <th>0</th>\n",
              "      <th>1</th>\n",
              "      <th>ratio</th>\n",
              "    </tr>\n",
              "    <tr>\n",
              "      <th>children</th>\n",
              "      <th></th>\n",
              "      <th></th>\n",
              "      <th></th>\n",
              "    </tr>\n",
              "  </thead>\n",
              "  <tbody>\n",
              "    <tr>\n",
              "      <th>0</th>\n",
              "      <td>13028.0</td>\n",
              "      <td>1063.0</td>\n",
              "      <td>8.159349</td>\n",
              "    </tr>\n",
              "    <tr>\n",
              "      <th>1</th>\n",
              "      <td>4410.0</td>\n",
              "      <td>445.0</td>\n",
              "      <td>10.090703</td>\n",
              "    </tr>\n",
              "    <tr>\n",
              "      <th>2</th>\n",
              "      <td>1926.0</td>\n",
              "      <td>202.0</td>\n",
              "      <td>10.488058</td>\n",
              "    </tr>\n",
              "    <tr>\n",
              "      <th>3</th>\n",
              "      <td>303.0</td>\n",
              "      <td>27.0</td>\n",
              "      <td>8.910891</td>\n",
              "    </tr>\n",
              "    <tr>\n",
              "      <th>4</th>\n",
              "      <td>37.0</td>\n",
              "      <td>4.0</td>\n",
              "      <td>10.810811</td>\n",
              "    </tr>\n",
              "    <tr>\n",
              "      <th>5</th>\n",
              "      <td>9.0</td>\n",
              "      <td>NaN</td>\n",
              "      <td>NaN</td>\n",
              "    </tr>\n",
              "  </tbody>\n",
              "</table>\n",
              "</div>"
            ],
            "text/plain": [
              "debt            0       1      ratio\n",
              "children                            \n",
              "0         13028.0  1063.0   8.159349\n",
              "1          4410.0   445.0  10.090703\n",
              "2          1926.0   202.0  10.488058\n",
              "3           303.0    27.0   8.910891\n",
              "4            37.0     4.0  10.810811\n",
              "5             9.0     NaN        NaN"
            ]
          },
          "execution_count": 44,
          "metadata": {},
          "output_type": "execute_result"
        }
      ],
      "source": [
        "df_cut_children = df_cut.pivot_table(index=['children'], columns='debt', values = 'gender', aggfunc='count')\n",
        "df_cut_children['ratio'] = df_cut_children[1]/df_cut_children[0]*100\n",
        "df_cut_children"
      ]
    },
    {
      "cell_type": "markdown",
      "id": "16ce945b",
      "metadata": {
        "id": "16ce945b"
      },
      "source": [
        "8% бездетных семей имели проблемы с возвратом кредита, а среди семей с детьми этот параметр 10% и более. Исключение составляет лишь семьи с 3мя детьми, но это вдимо какой-то выброс или особенность выборки, т.к. их доля не велика (около 1.5%), а тенденция к увеличению невозвратов с увеличеснием количества детей прослеживается четко. Еще остался вопрос по семьям с 5-тью детьми. Почему Nan? Осортируем по количесвту детей и посмотрим что с возвратом у них."
      ]
    },
    {
      "cell_type": "code",
      "execution_count": null,
      "id": "7749bd86",
      "metadata": {
        "scrolled": false,
        "id": "7749bd86",
        "outputId": "d66d41a7-31e9-4390-885b-025f52ff8c37"
      },
      "outputs": [
        {
          "data": {
            "text/html": [
              "<div>\n",
              "<style scoped>\n",
              "    .dataframe tbody tr th:only-of-type {\n",
              "        vertical-align: middle;\n",
              "    }\n",
              "\n",
              "    .dataframe tbody tr th {\n",
              "        vertical-align: top;\n",
              "    }\n",
              "\n",
              "    .dataframe thead th {\n",
              "        text-align: right;\n",
              "    }\n",
              "</style>\n",
              "<table border=\"1\" class=\"dataframe\">\n",
              "  <thead>\n",
              "    <tr style=\"text-align: right;\">\n",
              "      <th></th>\n",
              "      <th>children</th>\n",
              "      <th>debt</th>\n",
              "    </tr>\n",
              "  </thead>\n",
              "  <tbody>\n",
              "    <tr>\n",
              "      <th>8889</th>\n",
              "      <td>4</td>\n",
              "      <td>0</td>\n",
              "    </tr>\n",
              "    <tr>\n",
              "      <th>3977</th>\n",
              "      <td>5</td>\n",
              "      <td>0</td>\n",
              "    </tr>\n",
              "    <tr>\n",
              "      <th>7859</th>\n",
              "      <td>5</td>\n",
              "      <td>0</td>\n",
              "    </tr>\n",
              "    <tr>\n",
              "      <th>20770</th>\n",
              "      <td>5</td>\n",
              "      <td>0</td>\n",
              "    </tr>\n",
              "    <tr>\n",
              "      <th>15787</th>\n",
              "      <td>5</td>\n",
              "      <td>0</td>\n",
              "    </tr>\n",
              "    <tr>\n",
              "      <th>15881</th>\n",
              "      <td>5</td>\n",
              "      <td>0</td>\n",
              "    </tr>\n",
              "    <tr>\n",
              "      <th>16173</th>\n",
              "      <td>5</td>\n",
              "      <td>0</td>\n",
              "    </tr>\n",
              "    <tr>\n",
              "      <th>4394</th>\n",
              "      <td>5</td>\n",
              "      <td>0</td>\n",
              "    </tr>\n",
              "    <tr>\n",
              "      <th>20387</th>\n",
              "      <td>5</td>\n",
              "      <td>0</td>\n",
              "    </tr>\n",
              "    <tr>\n",
              "      <th>21087</th>\n",
              "      <td>5</td>\n",
              "      <td>0</td>\n",
              "    </tr>\n",
              "  </tbody>\n",
              "</table>\n",
              "</div>"
            ],
            "text/plain": [
              "       children  debt\n",
              "8889          4     0\n",
              "3977          5     0\n",
              "7859          5     0\n",
              "20770         5     0\n",
              "15787         5     0\n",
              "15881         5     0\n",
              "16173         5     0\n",
              "4394          5     0\n",
              "20387         5     0\n",
              "21087         5     0"
            ]
          },
          "execution_count": 45,
          "metadata": {},
          "output_type": "execute_result"
        }
      ],
      "source": [
        "df_cut[['children','debt']].sort_values(by='children').tail(10)"
      ]
    },
    {
      "cell_type": "markdown",
      "id": "5bc93cd7",
      "metadata": {
        "id": "5bc93cd7"
      },
      "source": [
        "Оказывается у них не было проблем с возвратами впринципе, но количсетво таких семей совсем мизерное."
      ]
    },
    {
      "cell_type": "markdown",
      "id": "f5cef03a",
      "metadata": {
        "id": "f5cef03a"
      },
      "source": [
        "## Семейное положение"
      ]
    },
    {
      "cell_type": "code",
      "execution_count": null,
      "id": "2e1ef434",
      "metadata": {
        "id": "2e1ef434",
        "outputId": "eff2697a-a743-4767-f1be-1e23deac626e"
      },
      "outputs": [
        {
          "data": {
            "text/html": [
              "<div>\n",
              "<style scoped>\n",
              "    .dataframe tbody tr th:only-of-type {\n",
              "        vertical-align: middle;\n",
              "    }\n",
              "\n",
              "    .dataframe tbody tr th {\n",
              "        vertical-align: top;\n",
              "    }\n",
              "\n",
              "    .dataframe thead th {\n",
              "        text-align: right;\n",
              "    }\n",
              "</style>\n",
              "<table border=\"1\" class=\"dataframe\">\n",
              "  <thead>\n",
              "    <tr style=\"text-align: right;\">\n",
              "      <th>debt</th>\n",
              "      <th>0</th>\n",
              "      <th>1</th>\n",
              "      <th>ratio</th>\n",
              "    </tr>\n",
              "    <tr>\n",
              "      <th>family_status_id</th>\n",
              "      <th></th>\n",
              "      <th></th>\n",
              "      <th></th>\n",
              "    </tr>\n",
              "  </thead>\n",
              "  <tbody>\n",
              "    <tr>\n",
              "      <th>0</th>\n",
              "      <td>11408</td>\n",
              "      <td>931</td>\n",
              "      <td>8.159349</td>\n",
              "    </tr>\n",
              "    <tr>\n",
              "      <th>1</th>\n",
              "      <td>3763</td>\n",
              "      <td>388</td>\n",
              "      <td>10.090703</td>\n",
              "    </tr>\n",
              "    <tr>\n",
              "      <th>2</th>\n",
              "      <td>896</td>\n",
              "      <td>63</td>\n",
              "      <td>10.488058</td>\n",
              "    </tr>\n",
              "    <tr>\n",
              "      <th>3</th>\n",
              "      <td>1110</td>\n",
              "      <td>85</td>\n",
              "      <td>8.910891</td>\n",
              "    </tr>\n",
              "    <tr>\n",
              "      <th>4</th>\n",
              "      <td>2536</td>\n",
              "      <td>274</td>\n",
              "      <td>10.810811</td>\n",
              "    </tr>\n",
              "  </tbody>\n",
              "</table>\n",
              "</div>"
            ],
            "text/plain": [
              "debt                  0    1      ratio\n",
              "family_status_id                       \n",
              "0                 11408  931   8.159349\n",
              "1                  3763  388  10.090703\n",
              "2                   896   63  10.488058\n",
              "3                  1110   85   8.910891\n",
              "4                  2536  274  10.810811"
            ]
          },
          "execution_count": 46,
          "metadata": {},
          "output_type": "execute_result"
        }
      ],
      "source": [
        "df_cut_family_status = df_cut.pivot_table(index=['family_status_id'], columns='debt', values = 'gender', aggfunc='count')\n",
        "df_cut_family_status['ratio'] = df_cut_children[1]/df_cut_children[0]*100\n",
        "df_cut_family_status"
      ]
    },
    {
      "cell_type": "code",
      "execution_count": null,
      "id": "4a7474ee",
      "metadata": {
        "id": "4a7474ee",
        "outputId": "8c123a34-fe7d-42a0-cf6d-86c5279f8daa"
      },
      "outputs": [
        {
          "data": {
            "text/html": [
              "<div>\n",
              "<style scoped>\n",
              "    .dataframe tbody tr th:only-of-type {\n",
              "        vertical-align: middle;\n",
              "    }\n",
              "\n",
              "    .dataframe tbody tr th {\n",
              "        vertical-align: top;\n",
              "    }\n",
              "\n",
              "    .dataframe thead th {\n",
              "        text-align: right;\n",
              "    }\n",
              "</style>\n",
              "<table border=\"1\" class=\"dataframe\">\n",
              "  <thead>\n",
              "    <tr style=\"text-align: right;\">\n",
              "      <th></th>\n",
              "      <th>family_status_id</th>\n",
              "      <th>0</th>\n",
              "      <th>1</th>\n",
              "      <th>ratio</th>\n",
              "      <th>family_status</th>\n",
              "    </tr>\n",
              "  </thead>\n",
              "  <tbody>\n",
              "    <tr>\n",
              "      <th>0</th>\n",
              "      <td>0</td>\n",
              "      <td>11408</td>\n",
              "      <td>931</td>\n",
              "      <td>8.159349</td>\n",
              "      <td>женат / замужем</td>\n",
              "    </tr>\n",
              "    <tr>\n",
              "      <th>3</th>\n",
              "      <td>3</td>\n",
              "      <td>1110</td>\n",
              "      <td>85</td>\n",
              "      <td>8.910891</td>\n",
              "      <td>в разводе</td>\n",
              "    </tr>\n",
              "    <tr>\n",
              "      <th>1</th>\n",
              "      <td>1</td>\n",
              "      <td>3763</td>\n",
              "      <td>388</td>\n",
              "      <td>10.090703</td>\n",
              "      <td>гражданский брак</td>\n",
              "    </tr>\n",
              "    <tr>\n",
              "      <th>2</th>\n",
              "      <td>2</td>\n",
              "      <td>896</td>\n",
              "      <td>63</td>\n",
              "      <td>10.488058</td>\n",
              "      <td>вдовец / вдова</td>\n",
              "    </tr>\n",
              "    <tr>\n",
              "      <th>4</th>\n",
              "      <td>4</td>\n",
              "      <td>2536</td>\n",
              "      <td>274</td>\n",
              "      <td>10.810811</td>\n",
              "      <td>Не женат / не замужем</td>\n",
              "    </tr>\n",
              "  </tbody>\n",
              "</table>\n",
              "</div>"
            ],
            "text/plain": [
              "   family_status_id      0    1      ratio          family_status\n",
              "0                 0  11408  931   8.159349        женат / замужем\n",
              "3                 3   1110   85   8.910891              в разводе\n",
              "1                 1   3763  388  10.090703       гражданский брак\n",
              "2                 2    896   63  10.488058         вдовец / вдова\n",
              "4                 4   2536  274  10.810811  Не женат / не замужем"
            ]
          },
          "execution_count": 47,
          "metadata": {},
          "output_type": "execute_result"
        }
      ],
      "source": [
        "df_cut_family_status = df_cut_family_status.merge(df_family_status, on='family_status_id', how='left')\n",
        "df_cut_family_status.sort_values(by='ratio')"
      ]
    },
    {
      "cell_type": "markdown",
      "id": "0a834d4a",
      "metadata": {
        "id": "0a834d4a"
      },
      "source": [
        "Самый низкий процент \"плохих\" кредитов у жеантых пар. Одинокие люди показывают меньшую финансовую ответсвенность."
      ]
    },
    {
      "cell_type": "markdown",
      "id": "4f29a184",
      "metadata": {
        "id": "4f29a184"
      },
      "source": [
        "## Доход"
      ]
    },
    {
      "cell_type": "code",
      "execution_count": null,
      "id": "61894b7d",
      "metadata": {
        "id": "61894b7d",
        "outputId": "a1f7e6f8-59cf-4e68-e375-6af059e6c891"
      },
      "outputs": [
        {
          "data": {
            "text/html": [
              "<div>\n",
              "<style scoped>\n",
              "    .dataframe tbody tr th:only-of-type {\n",
              "        vertical-align: middle;\n",
              "    }\n",
              "\n",
              "    .dataframe tbody tr th {\n",
              "        vertical-align: top;\n",
              "    }\n",
              "\n",
              "    .dataframe thead th {\n",
              "        text-align: right;\n",
              "    }\n",
              "</style>\n",
              "<table border=\"1\" class=\"dataframe\">\n",
              "  <thead>\n",
              "    <tr style=\"text-align: right;\">\n",
              "      <th>debt</th>\n",
              "      <th>0</th>\n",
              "      <th>1</th>\n",
              "      <th>ratio</th>\n",
              "    </tr>\n",
              "    <tr>\n",
              "      <th>total_income_category</th>\n",
              "      <th></th>\n",
              "      <th></th>\n",
              "      <th></th>\n",
              "    </tr>\n",
              "  </thead>\n",
              "  <tbody>\n",
              "    <tr>\n",
              "      <th>D</th>\n",
              "      <td>329</td>\n",
              "      <td>21</td>\n",
              "      <td>6.382979</td>\n",
              "    </tr>\n",
              "    <tr>\n",
              "      <th>B</th>\n",
              "      <td>4685</td>\n",
              "      <td>356</td>\n",
              "      <td>7.598719</td>\n",
              "    </tr>\n",
              "    <tr>\n",
              "      <th>A</th>\n",
              "      <td>23</td>\n",
              "      <td>2</td>\n",
              "      <td>8.695652</td>\n",
              "    </tr>\n",
              "    <tr>\n",
              "      <th>C</th>\n",
              "      <td>14656</td>\n",
              "      <td>1360</td>\n",
              "      <td>9.279476</td>\n",
              "    </tr>\n",
              "    <tr>\n",
              "      <th>E</th>\n",
              "      <td>20</td>\n",
              "      <td>2</td>\n",
              "      <td>10.000000</td>\n",
              "    </tr>\n",
              "  </tbody>\n",
              "</table>\n",
              "</div>"
            ],
            "text/plain": [
              "debt                       0     1      ratio\n",
              "total_income_category                        \n",
              "D                        329    21   6.382979\n",
              "B                       4685   356   7.598719\n",
              "A                         23     2   8.695652\n",
              "C                      14656  1360   9.279476\n",
              "E                         20     2  10.000000"
            ]
          },
          "execution_count": 48,
          "metadata": {},
          "output_type": "execute_result"
        }
      ],
      "source": [
        "df_total_income = df_cut.pivot_table(index=['total_income_category'], columns='debt', values = 'gender', aggfunc='count')\n",
        "df_total_income['ratio'] = df_total_income[1]/df_total_income[0]*100\n",
        "df_total_income.sort_values(by='ratio')"
      ]
    },
    {
      "cell_type": "markdown",
      "id": "c18eec16",
      "metadata": {
        "id": "c18eec16"
      },
      "source": [
        "Очень интересно разбросало катергории, оказывается самые ответственные заемщики это не самые состоятельные люди. Люди с наименьшим доходом ожидаемо в группе риска."
      ]
    },
    {
      "cell_type": "markdown",
      "id": "6c072c4c",
      "metadata": {
        "id": "6c072c4c"
      },
      "source": [
        "## Цели"
      ]
    },
    {
      "cell_type": "code",
      "execution_count": null,
      "id": "88cb8aa3",
      "metadata": {
        "id": "88cb8aa3",
        "outputId": "17da9a91-fbb9-4dd9-898c-f0540db6b9d3"
      },
      "outputs": [
        {
          "data": {
            "text/html": [
              "<div>\n",
              "<style scoped>\n",
              "    .dataframe tbody tr th:only-of-type {\n",
              "        vertical-align: middle;\n",
              "    }\n",
              "\n",
              "    .dataframe tbody tr th {\n",
              "        vertical-align: top;\n",
              "    }\n",
              "\n",
              "    .dataframe thead th {\n",
              "        text-align: right;\n",
              "    }\n",
              "</style>\n",
              "<table border=\"1\" class=\"dataframe\">\n",
              "  <thead>\n",
              "    <tr style=\"text-align: right;\">\n",
              "      <th>debt</th>\n",
              "      <th>0</th>\n",
              "      <th>1</th>\n",
              "      <th>ratio</th>\n",
              "    </tr>\n",
              "    <tr>\n",
              "      <th>purpose_category</th>\n",
              "      <th></th>\n",
              "      <th></th>\n",
              "      <th></th>\n",
              "    </tr>\n",
              "  </thead>\n",
              "  <tbody>\n",
              "    <tr>\n",
              "      <th>операции с недвижимостью</th>\n",
              "      <td>10029</td>\n",
              "      <td>782</td>\n",
              "      <td>7.797388</td>\n",
              "    </tr>\n",
              "    <tr>\n",
              "      <th>проведение свадьбы</th>\n",
              "      <td>2138</td>\n",
              "      <td>186</td>\n",
              "      <td>8.699719</td>\n",
              "    </tr>\n",
              "    <tr>\n",
              "      <th>получение образования</th>\n",
              "      <td>3643</td>\n",
              "      <td>370</td>\n",
              "      <td>10.156464</td>\n",
              "    </tr>\n",
              "    <tr>\n",
              "      <th>операции с автомобилем</th>\n",
              "      <td>3903</td>\n",
              "      <td>403</td>\n",
              "      <td>10.325391</td>\n",
              "    </tr>\n",
              "  </tbody>\n",
              "</table>\n",
              "</div>"
            ],
            "text/plain": [
              "debt                          0    1      ratio\n",
              "purpose_category                               \n",
              "операции с недвижимостью  10029  782   7.797388\n",
              "проведение свадьбы         2138  186   8.699719\n",
              "получение образования      3643  370  10.156464\n",
              "операции с автомобилем     3903  403  10.325391"
            ]
          },
          "execution_count": 49,
          "metadata": {},
          "output_type": "execute_result"
        }
      ],
      "source": [
        "df_purpose = df_cut.pivot_table(index=['purpose_category'], columns='debt', values = 'gender', aggfunc='count')\n",
        "df_purpose['ratio'] = df_purpose[1]/df_purpose[0]*100\n",
        "df_purpose.sort_values(by='ratio')"
      ]
    },
    {
      "cell_type": "markdown",
      "id": "6e9d7a82",
      "metadata": {
        "id": "6e9d7a82"
      },
      "source": [
        "Оказалось что для банка самыми безопасными являются кредиты выданные на операции с недвижимостью. Автокредитование и образование в зоне риска."
      ]
    },
    {
      "cell_type": "markdown",
      "id": "c05a1181",
      "metadata": {
        "id": "c05a1181"
      },
      "source": [
        "## Общий вывод"
      ]
    },
    {
      "cell_type": "markdown",
      "id": "f61b54e3",
      "metadata": {
        "id": "f61b54e3"
      },
      "source": [
        "Результаты исследования показали, что по ранее выданным кредитам ситуация следующая. Самый ответсвенный заемщик для банка - это бездетная семейная пара со средним уровнем дохода, берущая кредит на операции с недвижимостью. Собирательный образ проблемного заемщика можно охарактеризовать как одинокие люди с детьми, имеющие доход значительно выше или так же значительно ниже среднего, берущие автокредит."
      ]
    }
  ],
  "metadata": {
    "kernelspec": {
      "display_name": "Python 3 (ipykernel)",
      "language": "python",
      "name": "python3"
    },
    "language_info": {
      "codemirror_mode": {
        "name": "ipython",
        "version": 3
      },
      "file_extension": ".py",
      "mimetype": "text/x-python",
      "name": "python",
      "nbconvert_exporter": "python",
      "pygments_lexer": "ipython3",
      "version": "3.10.2"
    },
    "colab": {
      "name": "Project_2_Bank.ipynb",
      "provenance": [],
      "include_colab_link": true
    }
  },
  "nbformat": 4,
  "nbformat_minor": 5
}